{
  "nbformat": 4,
  "nbformat_minor": 0,
  "metadata": {
    "colab": {
      "provenance": [],
      "authorship_tag": "ABX9TyM9tXCBEdiaMbmUwMBlRaCZ",
      "include_colab_link": true
    },
    "kernelspec": {
      "name": "python3",
      "display_name": "Python 3"
    },
    "language_info": {
      "name": "python"
    }
  },
  "cells": [
    {
      "cell_type": "markdown",
      "metadata": {
        "id": "view-in-github",
        "colab_type": "text"
      },
      "source": [
        "<a href=\"https://colab.research.google.com/github/sarmi2325/AI_Portfolio/blob/main/intent_classifier.ipynb\" target=\"_parent\"><img src=\"https://colab.research.google.com/assets/colab-badge.svg\" alt=\"Open In Colab\"/></a>"
      ]
    },
    {
      "cell_type": "code",
      "source": [
        "import pandas as pd\n",
        "from sklearn.model_selection import train_test_split\n",
        "from sklearn.feature_extraction.text import TfidfVectorizer\n",
        "from sklearn.naive_bayes import MultinomialNB\n",
        "from sklearn.linear_model import LogisticRegression\n",
        "from sklearn.svm import LinearSVC\n",
        "from sklearn.ensemble import RandomForestClassifier\n",
        "from sklearn.metrics import accuracy_score, precision_score, recall_score\n",
        "from sklearn.pipeline import Pipeline\n",
        "import joblib\n",
        "\n",
        "# Load the dataset\n",
        "df = pd.read_csv(\"intent_dataset_5000.csv\")\n",
        "\n",
        "# Split the data\n",
        "X_train, X_test, y_train, y_test = train_test_split(df[\"text\"], df[\"intent\"], test_size=0.2, random_state=42)\n",
        "\n",
        "# Define models to compare\n",
        "models = {\n",
        "    \"LogisticRegression\": LogisticRegression(max_iter=1000),\n",
        "    \"LinearSVC\": LinearSVC(),\n",
        "    \"MultinomialNB\": MultinomialNB(),\n",
        "    \"RandomForest\": RandomForestClassifier(n_estimators=100)\n",
        "}\n",
        "\n",
        "# Track best model\n",
        "best_model = None\n",
        "best_metrics = {\"model\": \"\", \"accuracy\": 0, \"precision\": 0, \"recall\": 0}\n",
        "\n",
        "# Train and evaluate each model\n",
        "for name, model in models.items():\n",
        "    print(f\"\\n🔍 Training {name}...\")\n",
        "\n",
        "    # Create pipeline with TF-IDF + classifier\n",
        "    clf = Pipeline([\n",
        "        ('tfidf', TfidfVectorizer(ngram_range=(1, 2), max_features=3000)),\n",
        "        ('model', model)\n",
        "    ])\n",
        "\n",
        "    # Train\n",
        "    clf.fit(X_train, y_train)\n",
        "\n",
        "    # Predict\n",
        "    y_pred = clf.predict(X_test)\n",
        "\n",
        "    # Evaluate\n",
        "    accuracy = accuracy_score(y_test, y_pred)\n",
        "    precision = precision_score(y_test, y_pred, average='macro')\n",
        "    recall = recall_score(y_test, y_pred, average='macro')\n",
        "\n",
        "    print(f\"Accuracy: {accuracy:.4f}, Precision: {precision:.4f}, Recall: {recall:.4f}\")\n",
        "\n",
        "    # Save best\n",
        "    if accuracy > best_metrics[\"accuracy\"]:\n",
        "        best_model = clf\n",
        "        best_metrics = {\n",
        "            \"model\": name,\n",
        "            \"accuracy\": accuracy,\n",
        "            \"precision\": precision,\n",
        "            \"recall\": recall\n",
        "        }\n",
        "\n",
        "# Save the best model\n",
        "joblib.dump(best_model, \"best_intent_classifier.joblib\")\n",
        "\n",
        "# Final output\n",
        "print(\"\\nBest Model:\", best_metrics[\"model\"])\n",
        "print(f\"Accuracy: {best_metrics['accuracy']:.4f}\")\n",
        "print(f\"Precision: {best_metrics['precision']:.4f}\")\n",
        "print(f\"Recall: {best_metrics['recall']:.4f}\")\n"
      ],
      "metadata": {
        "colab": {
          "base_uri": "https://localhost:8080/"
        },
        "id": "QHkiQEOYiyDY",
        "outputId": "7fa620a9-0d80-490b-8772-7956a495a3a6"
      },
      "execution_count": null,
      "outputs": [
        {
          "output_type": "stream",
          "name": "stdout",
          "text": [
            "\n",
            "🔍 Training LogisticRegression...\n",
            "Accuracy: 0.9944, Precision: 0.9951, Recall: 0.9942\n",
            "\n",
            "🔍 Training LinearSVC...\n",
            "Accuracy: 0.9958, Precision: 0.9958, Recall: 0.9957\n",
            "\n",
            "🔍 Training MultinomialNB...\n",
            "Accuracy: 0.9916, Precision: 0.9915, Recall: 0.9919\n",
            "\n",
            "🔍 Training RandomForest...\n",
            "Accuracy: 0.9902, Precision: 0.9910, Recall: 0.9898\n",
            "\n",
            "Best Model: LinearSVC\n",
            "Accuracy: 0.9958\n",
            "Precision: 0.9958\n",
            "Recall: 0.9957\n"
          ]
        }
      ]
    }
  ]
}